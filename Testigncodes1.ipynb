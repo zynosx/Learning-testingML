{
  "nbformat": 4,
  "nbformat_minor": 0,
  "metadata": {
    "colab": {
      "name": "Testigncodes1.ipynb",
      "provenance": [],
      "collapsed_sections": [],
      "include_colab_link": true
    },
    "kernelspec": {
      "name": "python3",
      "display_name": "Python 3"
    },
    "language_info": {
      "name": "python"
    }
  },
  "cells": [
    {
      "cell_type": "markdown",
      "metadata": {
        "id": "view-in-github",
        "colab_type": "text"
      },
      "source": [
        "<a href=\"https://colab.research.google.com/github/zynosx/Learning-testingML/blob/main/Testigncodes1.ipynb\" target=\"_parent\"><img src=\"https://colab.research.google.com/assets/colab-badge.svg\" alt=\"Open In Colab\"/></a>"
      ]
    },
    {
      "cell_type": "code",
      "metadata": {
        "id": "P_rl_88gldVJ"
      },
      "source": [
        "b = {'babil','chiki','ritam','riya'}\n",
        "c = {'babil','chiki'}"
      ],
      "execution_count": null,
      "outputs": []
    },
    {
      "cell_type": "code",
      "metadata": {
        "id": "d2Ygtkozl9jQ",
        "colab": {
          "base_uri": "https://localhost:8080/"
        },
        "outputId": "6fe59b6b-96d8-48ea-9a98-5155332fbc9a"
      },
      "source": [
        "b.intersection(c)"
      ],
      "execution_count": null,
      "outputs": [
        {
          "output_type": "execute_result",
          "data": {
            "text/plain": [
              "{'babil', 'chiki'}"
            ]
          },
          "metadata": {
            "tags": []
          },
          "execution_count": 3
        }
      ]
    },
    {
      "cell_type": "code",
      "metadata": {
        "id": "BbHor2rTyx8u"
      },
      "source": [
        "import numpy as np\n",
        "list1=[2,7,3,6]\n",
        "list2=[6,23,8,3]\n",
        "list3=[4,3,6,3]"
      ],
      "execution_count": null,
      "outputs": []
    },
    {
      "cell_type": "code",
      "metadata": {
        "id": "612ovBLH2Iwa"
      },
      "source": [
        "arr = np.array([list1,list2,list3])"
      ],
      "execution_count": null,
      "outputs": []
    },
    {
      "cell_type": "code",
      "metadata": {
        "colab": {
          "base_uri": "https://localhost:8080/"
        },
        "id": "UcW8FLX42h8j",
        "outputId": "2e15ed8d-2aaf-4a27-e75e-328bede88468"
      },
      "source": [
        "arr"
      ],
      "execution_count": null,
      "outputs": [
        {
          "output_type": "execute_result",
          "data": {
            "text/plain": [
              "array([[ 2,  7,  3,  6],\n",
              "       [ 6, 23,  8,  3],\n",
              "       [ 4,  3,  6,  3]])"
            ]
          },
          "metadata": {
            "tags": []
          },
          "execution_count": 6
        }
      ]
    },
    {
      "cell_type": "code",
      "metadata": {
        "id": "cY5SEvEX2n4V",
        "colab": {
          "base_uri": "https://localhost:8080/"
        },
        "outputId": "619434a9-5b0c-4cdb-a028-2c2e00c62e25"
      },
      "source": [
        "arr.shape"
      ],
      "execution_count": null,
      "outputs": [
        {
          "output_type": "execute_result",
          "data": {
            "text/plain": [
              "(3, 4)"
            ]
          },
          "metadata": {
            "tags": []
          },
          "execution_count": 7
        }
      ]
    },
    {
      "cell_type": "code",
      "metadata": {
        "colab": {
          "base_uri": "https://localhost:8080/"
        },
        "id": "ZF_SpiM-2x-y",
        "outputId": "bd72e8be-af02-4946-bacf-d7d2e6f5c549"
      },
      "source": [
        "arr.reshape(4,3)"
      ],
      "execution_count": null,
      "outputs": [
        {
          "output_type": "execute_result",
          "data": {
            "text/plain": [
              "array([[ 2,  7,  3],\n",
              "       [ 6,  6, 23],\n",
              "       [ 8,  3,  4],\n",
              "       [ 3,  6,  3]])"
            ]
          },
          "metadata": {
            "tags": []
          },
          "execution_count": 8
        }
      ]
    },
    {
      "cell_type": "code",
      "metadata": {
        "colab": {
          "base_uri": "https://localhost:8080/"
        },
        "id": "2sNdk_liTsFk",
        "outputId": "4c5dec56-16fd-4474-e0ee-6df1bd08e9cd"
      },
      "source": [
        "arr"
      ],
      "execution_count": null,
      "outputs": [
        {
          "output_type": "execute_result",
          "data": {
            "text/plain": [
              "array([[ 2,  7,  3,  6],\n",
              "       [ 6, 23,  8,  3],\n",
              "       [ 4,  3,  6,  3]])"
            ]
          },
          "metadata": {
            "tags": []
          },
          "execution_count": 9
        }
      ]
    },
    {
      "cell_type": "code",
      "metadata": {
        "id": "17oUzFboT6Hn"
      },
      "source": [
        "np.linspace(1,10,100)"
      ],
      "execution_count": null,
      "outputs": []
    },
    {
      "cell_type": "code",
      "metadata": {
        "id": "N2OygbrY6w4n",
        "colab": {
          "base_uri": "https://localhost:8080/"
        },
        "outputId": "8c33f0d2-c81c-4752-cdc6-4335c5945b6a"
      },
      "source": [
        "np.random.randint(50,2230,10)"
      ],
      "execution_count": null,
      "outputs": [
        {
          "output_type": "execute_result",
          "data": {
            "text/plain": [
              "array([ 817, 1567, 2162, 1487,  626, 1367,  229, 1719, 1610,  787])"
            ]
          },
          "metadata": {
            "tags": []
          },
          "execution_count": 3
        }
      ]
    },
    {
      "cell_type": "code",
      "metadata": {
        "id": "uFOxoQC7faeS"
      },
      "source": [
        "#thisis from soumyajjal"
      ],
      "execution_count": null,
      "outputs": []
    },
    {
      "cell_type": "code",
      "metadata": {
        "id": "3XA2-PoLfThF"
      },
      "source": [
        "#testing pytho"
      ],
      "execution_count": null,
      "outputs": []
    }
  ]
}