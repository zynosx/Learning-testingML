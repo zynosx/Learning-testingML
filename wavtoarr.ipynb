{
  "nbformat": 4,
  "nbformat_minor": 0,
  "metadata": {
    "colab": {
      "name": "wavtoarr",
      "provenance": [],
      "authorship_tag": "ABX9TyM07eMVwdYtBpn3O5dhTvhl",
      "include_colab_link": true
    },
    "kernelspec": {
      "name": "python3",
      "display_name": "Python 3"
    },
    "language_info": {
      "name": "python"
    }
  },
  "cells": [
    {
      "cell_type": "markdown",
      "metadata": {
        "id": "view-in-github",
        "colab_type": "text"
      },
      "source": [
        "<a href=\"https://colab.research.google.com/github/zynosx/Learning-testingML/blob/main/wavtoarr.ipynb\" target=\"_parent\"><img src=\"https://colab.research.google.com/assets/colab-badge.svg\" alt=\"Open In Colab\"/></a>"
      ]
    },
    {
      "cell_type": "code",
      "metadata": {
        "id": "iLINaGuyn0Qf"
      },
      "source": [
        "from scipy.io.wavfile import read\n",
        "import soundfile as sf\n",
        "import numpy as np\n",
        "# a = np.array(read(\"sample1.wav\"))\n",
        "b = read(\"sample1.wav\")\n",
        "print(b)"
      ],
      "execution_count": null,
      "outputs": []
    },
    {
      "cell_type": "code",
      "metadata": {
        "id": "SD0Ic3kgpimG"
      },
      "source": [
        "for i in range(100000):\n",
        "  b[i] = [0,0]"
      ],
      "execution_count": 153,
      "outputs": []
    },
    {
      "cell_type": "code",
      "metadata": {
        "id": "0CRy-eJWABEj"
      },
      "source": [
        "# for i in range(100):\n",
        "#   print(b[i])"
      ],
      "execution_count": 154,
      "outputs": []
    },
    {
      "cell_type": "code",
      "metadata": {
        "id": "BCnWigZGHPNh"
      },
      "source": [
        "sf.write('recrsound.wav', b, 44100)"
      ],
      "execution_count": 155,
      "outputs": []
    }
  ]
}