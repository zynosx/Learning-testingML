{
  "nbformat": 4,
  "nbformat_minor": 0,
  "metadata": {
    "colab": {
      "name": "wavtoarr",
      "provenance": [],
      "authorship_tag": "ABX9TyPulRsjcrRr5fK2GD5bXSZA",
      "include_colab_link": true
    },
    "kernelspec": {
      "name": "python3",
      "display_name": "Python 3"
    },
    "language_info": {
      "name": "python"
    }
  },
  "cells": [
    {
      "cell_type": "markdown",
      "metadata": {
        "id": "view-in-github",
        "colab_type": "text"
      },
      "source": [
        "<a href=\"https://colab.research.google.com/github/zynosx/Learning-testingML/blob/main/wavtoarr.ipynb\" target=\"_parent\"><img src=\"https://colab.research.google.com/assets/colab-badge.svg\" alt=\"Open In Colab\"/></a>"
      ]
    },
    {
      "cell_type": "code",
      "metadata": {
        "id": "rq7tm7eVKF1m"
      },
      "source": [
        "# pip install pydub"
      ],
      "execution_count": null,
      "outputs": []
    },
    {
      "cell_type": "code",
      "metadata": {
        "id": "9QdYmxksIcpS"
      },
      "source": [
        "from scipy.io.wavfile import read\n",
        "import soundfile as sf\n",
        "import numpy as np\n",
        "import audio2numpy as a2n\n",
        "import pydub "
      ],
      "execution_count": 13,
      "outputs": []
    },
    {
      "cell_type": "code",
      "metadata": {
        "id": "iLINaGuyn0Qf"
      },
      "source": [
        "# a = np.array(read(\"sample1.wav\"))\n",
        "b = read(\"sample2.wav\")\n",
        "print(b)\n",
        "b = np.array(b[1])\n",
        "# b\n",
        "lenth = len(b)\n",
        "print(lenth)"
      ],
      "execution_count": null,
      "outputs": []
    },
    {
      "cell_type": "code",
      "metadata": {
        "id": "SD0Ic3kgpimG"
      },
      "source": [
        "# for i in range(lenth):\n",
        "#   print(b[i])"
      ],
      "execution_count": 15,
      "outputs": []
    },
    {
      "cell_type": "code",
      "metadata": {
        "id": "0CRy-eJWABEj"
      },
      "source": [
        "for i in range(lenth):\n",
        "  (b[i,1])=(b[i,0])\n",
        "# print(b)"
      ],
      "execution_count": 16,
      "outputs": []
    },
    {
      "cell_type": "code",
      "metadata": {
        "id": "BCnWigZGHPNh"
      },
      "source": [
        "sf.write('recrsound2.wav', b, 48000)"
      ],
      "execution_count": 17,
      "outputs": []
    },
    {
      "cell_type": "code",
      "metadata": {
        "id": "REd-Ld_GMGuo"
      },
      "source": [
        "def read(f, normalized=False):\n",
        "    # \"\"\"MP3 to numpy array\"\"\"\n",
        "    a = pydub.AudioSegment.from_mp3(f)\n",
        "    y = np.array(a.get_array_of_samples())\n",
        "    if a.channels == 2:\n",
        "        y = y.reshape((-1, 2))\n",
        "    if normalized:\n",
        "        return a.frame_rate, np.float32(y) / 2**15\n",
        "    else:\n",
        "        return a.frame_rate, y\n",
        "\n",
        "def write(f, sr, x, normalized=False):\n",
        "    # \"\"\"numpy array to MP3\"\"\"\n",
        "    channels = 2 if (x.ndim == 2 and x.shape[1] == 2) else 1\n",
        "    if normalized:  # normalized array - each item should be a float in [-1, 1)\n",
        "        y = np.int16(x * 2 ** 15)\n",
        "    else:\n",
        "        y = np.int16(x)\n",
        "    song = pydub.AudioSegment(y.tobytes(), frame_rate=sr, sample_width=2, channels=channels)\n",
        "    song.export(f, format=\"mp3\", bitrate=\"320k\")"
      ],
      "execution_count": 18,
      "outputs": []
    },
    {
      "cell_type": "code",
      "metadata": {
        "id": "2jliUe4HqRLo"
      },
      "source": [
        "x = read('test.mp3')\n",
        "x = np.array(x[1])\n",
        "# print(x)\n",
        "lenth = len(x)"
      ],
      "execution_count": 19,
      "outputs": []
    },
    {
      "cell_type": "code",
      "metadata": {
        "id": "QOil-8O5LG3D"
      },
      "source": [
        "for i in range(lenth):\n",
        "  (x[i,1])=(x[i,0])\n"
      ],
      "execution_count": 20,
      "outputs": []
    },
    {
      "cell_type": "code",
      "metadata": {
        "id": "1cPvyGaQOh0y"
      },
      "source": [
        "# for i in range(lenth):\n",
        "#   print(x[i])"
      ],
      "execution_count": 21,
      "outputs": []
    },
    {
      "cell_type": "code",
      "metadata": {
        "id": "hx6Go4NYN1zN"
      },
      "source": [
        "write('out2.mp3', 48000, x)"
      ],
      "execution_count": 22,
      "outputs": []
    }
  ]
}