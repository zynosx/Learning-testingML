{
  "nbformat": 4,
  "nbformat_minor": 0,
  "metadata": {
    "colab": {
      "name": "HandWritnDigtRec.ipynb",
      "provenance": [],
      "authorship_tag": "ABX9TyMBs7ABb0v8DH1615imvHum",
      "include_colab_link": true
    },
    "kernelspec": {
      "name": "python3",
      "display_name": "Python 3"
    },
    "language_info": {
      "name": "python"
    }
  },
  "cells": [
    {
      "cell_type": "markdown",
      "metadata": {
        "id": "view-in-github",
        "colab_type": "text"
      },
      "source": [
        "<a href=\"https://colab.research.google.com/github/zynosx/Learning-testingML/blob/main/HandWritnDigtRec.ipynb\" target=\"_parent\"><img src=\"https://colab.research.google.com/assets/colab-badge.svg\" alt=\"Open In Colab\"/></a>"
      ]
    },
    {
      "cell_type": "code",
      "metadata": {
        "id": "t0YReLowA_-2"
      },
      "source": [
        "from sklearn.datasets import fetch_openml"
      ],
      "execution_count": null,
      "outputs": []
    },
    {
      "cell_type": "code",
      "metadata": {
        "id": "45-pT6RvDXyc"
      },
      "source": [
        "mnist = fetch_openml('mnist_784')"
      ],
      "execution_count": 4,
      "outputs": []
    },
    {
      "cell_type": "code",
      "metadata": {
        "id": "mACALbfmEJjI"
      },
      "source": [
        "mnist"
      ],
      "execution_count": null,
      "outputs": []
    }
  ]
}